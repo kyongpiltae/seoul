{
 "cells": [
  {
   "cell_type": "code",
   "execution_count": null,
   "metadata": {},
   "outputs": [],
   "source": []
  }
 ],
 "metadata": {
  "kernelspec": {
   "display_name": "Python 3.7.3 64-bit ('base': conda)",
   "language": "python",
   "name": "python37364bitbasecondaa6be449f7e7441d292818e0d234acdd4"
  }
 },
 "nbformat": 4,
 "nbformat_minor": 2
}
